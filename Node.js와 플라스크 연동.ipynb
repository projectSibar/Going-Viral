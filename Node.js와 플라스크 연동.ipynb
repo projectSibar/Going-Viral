{
 "cells": [
  {
   "cell_type": "code",
   "execution_count": null,
   "metadata": {},
   "outputs": [],
   "source": [
    "from google.colab import drive\n",
    "drive.mount('/content/drive')\n",
    "\n",
    "%cd '/content/drive/My Drive/nlp'\n",
    "#경로확인\n",
    "print(os.getcwd())"
   ]
  },
  {
   "cell_type": "code",
   "execution_count": null,
   "metadata": {
    "scrolled": false
   },
   "outputs": [
    {
     "name": "stdout",
     "output_type": "stream",
     "text": [
      " * Serving Flask app \"__main__\" (lazy loading)\n",
      " * Environment: production\n",
      "   WARNING: This is a development server. Do not use it in a production deployment.\n",
      "   Use a production WSGI server instead.\n",
      " * Debug mode: off\n"
     ]
    },
    {
     "name": "stderr",
     "output_type": "stream",
     "text": [
      " * Running on http://127.0.0.1:5000/ (Press CTRL+C to quit)\n",
      "127.0.0.1 - - [03/Aug/2021 09:46:36] \"\u001b[32mGET / HTTP/1.1\u001b[0m\" 302 -\n"
     ]
    },
    {
     "name": "stdout",
     "output_type": "stream",
     "text": [
      "None\n",
      "<class 'NoneType'>\n"
     ]
    },
    {
     "name": "stderr",
     "output_type": "stream",
     "text": [
      "127.0.0.1 - - [03/Aug/2021 09:46:50] \"\u001b[32mGET /?Cate=광주광역시+청년+지원사업의+모든것%21%21+2021년+청년정책+종합안내 HTTP/1.1\u001b[0m\" 302 -\n"
     ]
    },
    {
     "name": "stdout",
     "output_type": "stream",
     "text": [
      "광주광역시 청년 지원사업의 모든것!! 2021년 청년정책 종합안내\n",
      "<class 'str'>\n"
     ]
    },
    {
     "name": "stderr",
     "output_type": "stream",
     "text": [
      "127.0.0.1 - - [03/Aug/2021 09:51:09] \"\u001b[32mGET /?Cate=광주광역시+청년+지원사업의+모든것%21%21+2021년+청년정책+종합안내 HTTP/1.1\u001b[0m\" 302 -\n"
     ]
    },
    {
     "name": "stdout",
     "output_type": "stream",
     "text": [
      "광주광역시 청년 지원사업의 모든것!! 2021년 청년정책 종합안내\n",
      "<class 'str'>\n"
     ]
    },
    {
     "name": "stderr",
     "output_type": "stream",
     "text": [
      "127.0.0.1 - - [03/Aug/2021 12:12:46] \"\u001b[32mGET /?Cate=광주광역시+청년+지원사업의+모든것%21%21+2021년+청년정책+종합안내 HTTP/1.1\u001b[0m\" 302 -\n"
     ]
    },
    {
     "name": "stdout",
     "output_type": "stream",
     "text": [
      "광주광역시 청년 지원사업의 모든것!! 2021년 청년정책 종합안내\n",
      "<class 'str'>\n"
     ]
    },
    {
     "name": "stderr",
     "output_type": "stream",
     "text": [
      "127.0.0.1 - - [03/Aug/2021 12:18:42] \"\u001b[32mGET /?Cate=광주광역시+청년+지원사업의+모든것%21%21+2021년+청년정책+종합안내 HTTP/1.1\u001b[0m\" 302 -\n"
     ]
    },
    {
     "name": "stdout",
     "output_type": "stream",
     "text": [
      "광주광역시 청년 지원사업의 모든것!! 2021년 청년정책 종합안내\n",
      "<class 'str'>\n"
     ]
    },
    {
     "name": "stderr",
     "output_type": "stream",
     "text": [
      "127.0.0.1 - - [03/Aug/2021 12:19:01] \"\u001b[32mGET /?Cate=광주광역시+청년+지원사업의+모든것%21%21+2021년+청년정책+종합안내 HTTP/1.1\u001b[0m\" 302 -\n"
     ]
    },
    {
     "name": "stdout",
     "output_type": "stream",
     "text": [
      "광주광역시 청년 지원사업의 모든것!! 2021년 청년정책 종합안내\n",
      "<class 'str'>\n"
     ]
    },
    {
     "name": "stderr",
     "output_type": "stream",
     "text": [
      "127.0.0.1 - - [03/Aug/2021 12:43:50] \"\u001b[32mGET /?Cate=광주광역시+청년+지원사업의+모든것%21%21+2021년+청년정책+종합안내 HTTP/1.1\u001b[0m\" 302 -\n"
     ]
    },
    {
     "name": "stdout",
     "output_type": "stream",
     "text": [
      "광주광역시 청년 지원사업의 모든것!! 2021년 청년정책 종합안내\n",
      "<class 'str'>\n"
     ]
    }
   ],
   "source": [
    "from sklearn.feature_extraction.text import CountVectorizer\n",
    "from flask import Flask,request,redirect\n",
    "from numpy import dot\n",
    "from numpy.linalg import norm\n",
    "import numpy as np\n",
    "\n",
    "\n",
    "\n",
    "\n",
    "path = 'http://localhost:3000/testform_process/?value='\n",
    "\n",
    "def cos_sim(A, B):\n",
    "       return dot(A, B)/(norm(A)*norm(B))\n",
    "    \n",
    "app = Flask(__name__)\n",
    "\n",
    "@app.route('/')\n",
    "def hello():\n",
    "    print(request.args.get('Cate'))# 쿼리문의 key : value로 넘어온다 > get으로 원하는 값의 key를 추출한다\n",
    "    valueList = []\n",
    "    valueList.append(request.args.get('Cate'))\n",
    "    valueList.append(request.args.get('Cate2'))\n",
    "    valueList.append(request.args.get('Cate3'))\n",
    "    \n",
    "    \n",
    "    s_list = [] #유사한 결과 2개\n",
    "    ns_list = [] #유사하지 않은 결과 1개 \n",
    "    for nname in valueList:\n",
    "    \n",
    "        fileList = ['house','culture','health','hire','money','education']\n",
    "        for file in fileList:\n",
    "            readfile = file+'.csv'\n",
    "\n",
    "            #타이틀 값 가져온거 변수에 담긴애 인덱스 찾기\n",
    "            indexNum=[]\n",
    "            for i in range(len(list_from_df)):\n",
    "                if nname in list_from_df[i][1]:\n",
    "                    indexNum.append(i)\n",
    "                else:\n",
    "                    continue\n",
    "            vect3 = CountVectorizer() #백터라이징 진행\n",
    "            # vect 단어를 수치화(빈도수 기반), 문장을 백터화\n",
    "            result = vect3.fit_transform(doc3).toarray()\n",
    "            dic3={}\n",
    "            for cur in range(result.shape[0]):\n",
    "                dic3[cur]={}\n",
    "                for i in range(result.shape[0]):\n",
    "                    print(cos_sim(result[cur],result[i])) \n",
    "                    dic3[cur][i] = cos_sim(result[cur],result[i])\n",
    "\n",
    "            #csv파일의 인덱스번호를 사용하여 해당하는 title 가지고 오기\n",
    "            for i in indexNum:\n",
    "                series=df3[i].sort_values()[:-1]\n",
    "                #유사도 높은 2가지와 -1가지 추출\n",
    "                s_list.append(series.index[0])\n",
    "                s_list.append(series.index[1])\n",
    "                ns_list.append(series.index[0])\n",
    "    \n",
    "    \n",
    "    for idx in range(len(s_list)):\n",
    "        path += ('value'+idx+'=')+s_list[idx]# 인덱스에 해당하는 값을 포문으로 생성된 변수에 저장한다\n",
    "        \n",
    "    \n",
    "    return redirect(path)# return문에 html에 띄울 내용 입력하기\n",
    "\n",
    "if __name__ == \"__main__\":\n",
    "    app.run()\n"
   ]
  },
  {
   "cell_type": "code",
   "execution_count": null,
   "metadata": {},
   "outputs": [],
   "source": []
  }
 ],
 "metadata": {
  "kernelspec": {
   "display_name": "Python 3",
   "language": "python",
   "name": "python3"
  },
  "language_info": {
   "codemirror_mode": {
    "name": "ipython",
    "version": 3
   },
   "file_extension": ".py",
   "mimetype": "text/x-python",
   "name": "python",
   "nbconvert_exporter": "python",
   "pygments_lexer": "ipython3",
   "version": "3.8.5"
  }
 },
 "nbformat": 4,
 "nbformat_minor": 4
}
