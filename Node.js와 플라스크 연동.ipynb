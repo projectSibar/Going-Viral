{
 "cells": [
  {
   "cell_type": "code",
   "execution_count": null,
   "metadata": {
    "scrolled": false
   },
   "outputs": [
    {
     "name": "stdout",
     "output_type": "stream",
     "text": [
      " * Serving Flask app \"__main__\" (lazy loading)\n",
      " * Environment: production\n",
      "   WARNING: This is a development server. Do not use it in a production deployment.\n",
      "   Use a production WSGI server instead.\n",
      " * Debug mode: off\n"
     ]
    },
    {
     "name": "stderr",
     "output_type": "stream",
     "text": [
      " * Running on http://127.0.0.1:5000/ (Press CTRL+C to quit)\n",
      "127.0.0.1 - - [03/Aug/2021 09:46:36] \"\u001b[32mGET / HTTP/1.1\u001b[0m\" 302 -\n"
     ]
    },
    {
     "name": "stdout",
     "output_type": "stream",
     "text": [
      "None\n",
      "<class 'NoneType'>\n"
     ]
    },
    {
     "name": "stderr",
     "output_type": "stream",
     "text": [
      "127.0.0.1 - - [03/Aug/2021 09:46:50] \"\u001b[32mGET /?Cate=광주광역시+청년+지원사업의+모든것%21%21+2021년+청년정책+종합안내 HTTP/1.1\u001b[0m\" 302 -\n"
     ]
    },
    {
     "name": "stdout",
     "output_type": "stream",
     "text": [
      "광주광역시 청년 지원사업의 모든것!! 2021년 청년정책 종합안내\n",
      "<class 'str'>\n"
     ]
    },
    {
     "name": "stderr",
     "output_type": "stream",
     "text": [
      "127.0.0.1 - - [03/Aug/2021 09:51:09] \"\u001b[32mGET /?Cate=광주광역시+청년+지원사업의+모든것%21%21+2021년+청년정책+종합안내 HTTP/1.1\u001b[0m\" 302 -\n"
     ]
    },
    {
     "name": "stdout",
     "output_type": "stream",
     "text": [
      "광주광역시 청년 지원사업의 모든것!! 2021년 청년정책 종합안내\n",
      "<class 'str'>\n"
     ]
    },
    {
     "name": "stderr",
     "output_type": "stream",
     "text": [
      "127.0.0.1 - - [03/Aug/2021 12:12:46] \"\u001b[32mGET /?Cate=광주광역시+청년+지원사업의+모든것%21%21+2021년+청년정책+종합안내 HTTP/1.1\u001b[0m\" 302 -\n"
     ]
    },
    {
     "name": "stdout",
     "output_type": "stream",
     "text": [
      "광주광역시 청년 지원사업의 모든것!! 2021년 청년정책 종합안내\n",
      "<class 'str'>\n"
     ]
    }
   ],
   "source": [
    "# 피클로 해당 데이터 주고받기\n",
    "from flask import Flask,request,redirect\n",
    "app = Flask(__name__)\n",
    "\n",
    "@app.route('/')\n",
    "def hello():\n",
    "    print(request.args.get('Cate'))# 쿼리문의 key : value로 넘어온다 > get으로 원하는 값의 key를 추출한다\n",
    "    val = request.args.get('Cate')\n",
    "    print(type(val))\n",
    "    return redirect('http://localhost:3000/testform_process/?value='+str(request.args.get('Cate')))# return문에 html에 띄울 내용 입력하기\n",
    "\n",
    "if __name__ == \"__main__\":\n",
    "    app.run()\n"
   ]
  },
  {
   "cell_type": "code",
   "execution_count": null,
   "metadata": {},
   "outputs": [],
   "source": []
  }
 ],
 "metadata": {
  "kernelspec": {
   "display_name": "Python 3",
   "language": "python",
   "name": "python3"
  },
  "language_info": {
   "codemirror_mode": {
    "name": "ipython",
    "version": 3
   },
   "file_extension": ".py",
   "mimetype": "text/x-python",
   "name": "python",
   "nbconvert_exporter": "python",
   "pygments_lexer": "ipython3",
   "version": "3.8.5"
  }
 },
 "nbformat": 4,
 "nbformat_minor": 4
}
